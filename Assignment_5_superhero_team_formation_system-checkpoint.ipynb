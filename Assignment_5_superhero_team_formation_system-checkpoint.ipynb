{
 "cells": [
  {
   "cell_type": "code",
   "execution_count": null,
   "id": "33560727-22e0-4c9d-b6f2-c6d6bfe6490d",
   "metadata": {},
   "outputs": [],
   "source": [
    "# - Superhero Team Formation System"
   ]
  },
  {
   "cell_type": "markdown",
   "id": "3913c5c3-88a9-42f2-b894-b9e788e91e98",
   "metadata": {},
   "source": [
    "## Objective:\n",
    "\"\"\"In this assignment, you will build a Superhero Team Formation System where you will manage superhero\n",
    "data, form teams based on user input, and sort and manipulate that data. The assignment will require you\n",
    "to use lists, tuples, sets and built-in Python methods to manage and manipulate the superhero data\n",
    "interactively.\n",
    "You are NOT allowed to use:\n",
    " List comprehension\n",
    " Loops (for, while)\"\"\"\n",
    "\n",
    "### Assignment Instructions:\n",
    "\"\"\" Create a list of superheroes. Each superhero should have:\n",
    "\n",
    "**Name (string)**\n",
    "\n",
    "**Power Level** (Integer between 1 and 100)\n",
    "\n",
    "**Universe** (string, e.g., DC, Marvel etc.)\n",
    "\n",
    "**Rating** (float, between 1 and 5) \"\"\""
   ]
  },
  {
   "cell_type": "code",
   "execution_count": 1,
   "id": "2ea96ff4-e46b-48e6-ac5e-c0ca8856f31e",
   "metadata": {},
   "outputs": [
    {
     "name": "stdout",
     "output_type": "stream",
     "text": [
      "********************************************************************************************************************************************************* \n",
      "\n",
      "^=^^=^^=^^=^^=^^=^^=^^=^^=^^=^^=^^=^^=^^=^^=^^=^^=^^=^^=^^=^^=^^=^^=^^=^^=^^=^^=^^=^^=^^=^^=^^=^^=^^=^^=^^=^^=^^=^^=^^=^^=^^=^^=^^=^^=^^=^^=^^=^^=^^=^^=^^=^^=^^=^^=^^=^^=^^=^^=^^=^^=^^=^^=^^=^^=^^=^^=^^=^^=^^=^^=^^=^^=^^=^^=^^=^^=^^=^^=^^=^^=^^=^^=^^=^^=^^=^^=^^=^^=^^=^^=^^=^^=^^=^^=^^=^^=^^=^^=^^=^^=^^=^^=^^=^^=^^=^^=^^=^^=^^=^^=^^=^^=^^=^^=^^=^^=^^=^^=^^=^^=^^=^^=^^=^^=^^=^^=^^=^^=^^=^^=^^=^^=^^=^^=^^=^^=^^=^^=^^=^^=^^=^^=^^=^^=^^=^^=^^=^^=^^=^^=^^=^^=^ \n",
      "\n",
      "********************************************************************************************************************************************************* \n",
      "\n",
      "a list of tuples of superherose is:\n",
      " [('superman', 90, 'DC', 4.7), ('spiderman', 88, 'Marvel', 4.4), ('ironman', 92, 'DC', 4.8), ('Hellboy', 77, 'Dark horse', 4.2), ('the flash', 80, 'Marvel', 4.0), ('Green Lantern', 92, 'DC', 4.9), ('Captain of pakistan', 96, 'Marvel', 5.0)]\n",
      "the top filter superheroes by power level is:\n",
      " [('Captain of pakistan', 96, 'Marvel', 5.0)]\n",
      "Top high rating of superherose is:\n",
      " [('Captain of pakistan', 96, 'Marvel', 5.0), ('Green Lantern', 92, 'DC', 4.9), ('ironman', 92, 'DC', 4.8), ('superman', 90, 'DC', 4.7), ('spiderman', 88, 'Marvel', 4.4), ('Hellboy', 77, 'Dark horse', 4.2), ('the flash', 80, 'Marvel', 4.0)]\n",
      "\n",
      " <~><~><~><~><~><~><~><~><~><~><~><~><~><~><~><~><~><~><~><~><~><~><~><~><~><~><~><~><~><~><~><~><~><~><~><~><~><~><~><~><~><~><~><~><~><~><~><~><~><~><~><~><~><~><~><~><~><~><~><~><~><~><~><~><~><~><~><~><~><~><~><~><~><~><~><~><~><~><~><~><~><~><~><~><~><~><~><~><~><~><~><~><~><~><~><~><~><~><~><~><~><~><~><~><~><~><~><~><~><~><~><~><~><~><~><~><~><~><~><~><~><~><~><~><~><~><~><~><~><~><~><~><~><~><~><~><~><~><~><~><~><~><~><~><~><~><~><~><~><~><~><~><~> \n",
      "\n",
      "total power level of filtered team is:\n",
      " 615\n",
      "total average rating of filtered team is:\n",
      " 4.571428571428571\n"
     ]
    },
    {
     "name": "stdin",
     "output_type": "stream",
     "text": [
      "Enter the superhero name to remove:\n",
      " ironman\n"
     ]
    },
    {
     "name": "stdout",
     "output_type": "stream",
     "text": [
      "After removing superhero name is:\n",
      " [('superman', 90, 'DC', 4.7), ('spiderman', 88, 'Marvel', 4.4), ('Hellboy', 77, 'Dark horse', 4.2), ('the flash', 80, 'Marvel', 4.0), ('Green Lantern', 92, 'DC', 4.9), ('Captain of pakistan', 96, 'Marvel', 5.0)]\n"
     ]
    },
    {
     "name": "stdin",
     "output_type": "stream",
     "text": [
      "Enter the new name of superhero:\n",
      " naif khan\n",
      "Enter the new name power level(star from 0 to 100):\n",
      " 88\n",
      "Enter the universe name like 'DC' or 'Marvel':\n",
      " DC\n",
      "Enter the rating of new name from 0 to 5.0:\n",
      " 4.7\n"
     ]
    },
    {
     "name": "stdout",
     "output_type": "stream",
     "text": [
      "naif khan has been added to the team.\n",
      "\n",
      "Final superhero team is:\n",
      " [('superman', 90, 'DC', 4.7), ('spiderman', 88, 'Marvel', 4.4), ('ironman', 92, 'DC', 4.8), ('Hellboy', 77, 'Dark horse', 4.2), ('the flash', 80, 'Marvel', 4.0), ('Green Lantern', 92, 'DC', 4.9), ('Captain of pakistan', 96, 'Marvel', 5.0), ('naif khan', 88, 'DC', 4.7)]\n",
      "********************************************************************************************************************************************************* \n",
      "\n",
      "^=^^=^^=^^=^^=^^=^^=^^=^^=^^=^^=^^=^^=^^=^^=^^=^^=^^=^^=^^=^^=^^=^^=^^=^^=^^=^^=^^=^^=^^=^^=^^=^^=^^=^^=^^=^^=^^=^^=^^=^^=^^=^^=^^=^^=^^=^^=^^=^^=^^=^^=^^=^^=^^=^^=^^=^^=^^=^^=^^=^^=^^=^^=^^=^^=^^=^^=^^=^^=^^=^^=^^=^^=^^=^^=^^=^^=^^=^^=^^=^^=^^=^^=^^=^^=^^=^^=^^=^^=^^=^^=^^=^^=^^=^^=^^=^^=^^=^^=^^=^^=^^=^^=^^=^^=^^=^^=^^=^^=^^=^^=^^=^^=^^=^^=^^=^^=^^=^^=^^=^^=^^=^^=^^=^^=^^=^^=^^=^^=^^=^^=^^=^^=^^=^^=^^=^^=^^=^^=^^=^^=^^=^^=^^=^^=^^=^^=^^=^^=^^=^^=^^=^^=^ \n",
      "\n",
      "********************************************************************************************************************************************************* \n",
      "\n"
     ]
    }
   ],
   "source": [
    "# Task 1: Create Superhero List (as a list of tuples)\n",
    "##- 1. Create and Initialize Superhero List: \n",
    "'''Start by creating the list of superheroes as shown above. You can add new superheroes by asking the \n",
    "user for their details.'''\n",
    "\n",
    "superherose = [\n",
    "    (\"superman\",90,\"DC\",4.7),\n",
    "    (\"spiderman\",88,\"Marvel\",4.4),\n",
    "    (\"ironman\",92,\"DC\",4.8),\n",
    "    (\"Hellboy\",77,\"Dark horse\",4.2),\n",
    "    (\"the flash\",80,\"Marvel\",4.0),\n",
    "    (\"Green Lantern\",92,\"DC\",4.9),\n",
    "    (\"Captain of pakistan\",96,\"Marvel\",5.0)\n",
    "]\n",
    "\n",
    "print(\"*\" * 153,\"\\n\")\n",
    "print(\"^=^\" * 153,\"\\n\")\n",
    "print(\"*\" * 153,\"\\n\")\n",
    "\n",
    "print(\"a list of tuples of superherose is:\\n\",superherose)\n",
    "\n",
    "#- Task-2. Filter Superheroes by Power Level:\n",
    "##-Find the super heroes with maximum power level and display them.  \n",
    "maxpower =max(superherose,key=lambda x: x[1])[1]\n",
    "filtered_team = list(filter(lambda x: x[1] == maxpower,superherose))\n",
    "print(\"the top filter superheroes by power level is:\\n\",filtered_team)\n",
    "\n",
    "#- Task-3,Sort Superheroes by Rating: \n",
    "##-Use the sorted() function to sort the superheroes by their rating in descending order and display them.\n",
    "sorted_team=sorted(superherose,key=lambda x: x[3],reverse=True)\n",
    "print(\"Top high rating of superherose is:\\n\",sorted_team)\n",
    "\n",
    "print(\"\\n\",\"<~>\" * 153,\"\\n\")\n",
    "\n",
    "#-Task.4. Calculate Team Statistics: \n",
    "##-Calculate and display the total power level and the average rating of the superheroes in the filtered team.\n",
    "\n",
    "total_power = sum(map(lambda x: x[1],superherose))\n",
    "print('total power level of filtered team is:\\n',total_power)\n",
    "average_rating = sum(map(lambda x: x[3],superherose))/ len(superherose)\n",
    "print('total average rating of filtered team is:\\n',average_rating)\n",
    "\n",
    "#-Task.5. Remove a Superhero: \n",
    "##-Ask the user to enter a superhero name to remove from the list. Manually search for the superhero by name and remove it from the list. \n",
    "\n",
    "remove_name = input(\"Enter the superhero name to remove:\\n\")\n",
    "superhero_team = list(filter(lambda x: x[0] != remove_name,superherose))\n",
    "print(\"After removing superhero name is:\\n\",superhero_team)\n",
    "\n",
    "#-Task.6. Add a New Superhero: \n",
    "#-Ask the user for the superhero's name, power level, universe, and rating and add that superhero to the list.(One super hero is to be taken from user)\n",
    "\n",
    "name =input(\"Enter the new name of superhero:\\n\")\n",
    "power_level =int(input(\"Enter the new name power level(star from 0 to 100):\\n\"))\n",
    "universe = input(\"Enter the universe name like 'DC' or 'Marvel':\\n\")\n",
    "rating = float(input(\"Enter the rating of new name from 0 to 5.0:\\n\"))\n",
    "new_superhero_name = (name,power_level,universe,rating)\n",
    "superherose.append(new_superhero_name)\n",
    "print(f\"{name} has been added to the team.\")\n",
    "\n",
    "#-Task.7. Display the Final Team: \n",
    "##-After filtering, sorting, and removing superheroes, display the final list of superheroes along with their details. \n",
    "\n",
    "print(\"\\nFinal superhero team is:\\n\",superherose)\n",
    "\n",
    "print(\"*\" * 153,\"\\n\")\n",
    "print(\"^=^\" * 153,\"\\n\")\n",
    "print(\"*\" * 153,\"\\n\")\n",
    "\n",
    "\n"
   ]
  },
  {
   "cell_type": "code",
   "execution_count": null,
   "id": "b9cb7487-d56c-4207-971b-8eaa54b71cf6",
   "metadata": {},
   "outputs": [],
   "source": []
  },
  {
   "cell_type": "markdown",
   "id": "a3fcbc72-f72d-4207-af9f-143e59875983",
   "metadata": {},
   "source": [
    "# -Second part of Assignment is: Task for Set Operations:"
   ]
  },
  {
   "cell_type": "code",
   "execution_count": 2,
   "id": "6496b9a8-c03f-44a8-98b8-eb2a4cfa1b1f",
   "metadata": {},
   "outputs": [
    {
     "name": "stdout",
     "output_type": "stream",
     "text": [
      "\n",
      " ######################################################################################################################################################## \n",
      "\n",
      "\n",
      " 'æ''æ''æ''æ''æ''æ''æ''æ''æ''æ''æ''æ''æ''æ''æ''æ''æ''æ''æ''æ''æ''æ''æ''æ''æ''æ''æ''æ''æ''æ''æ''æ''æ''æ''æ''æ''æ''æ''æ''æ''æ''æ''æ''æ''æ''æ''æ''æ''æ''æ''æ''æ''æ''æ''æ''æ''æ''æ''æ''æ''æ''æ''æ''æ''æ''æ''æ''æ''æ''æ''æ''æ''æ''æ''æ''æ''æ''æ''æ''æ''æ''æ''æ''æ''æ''æ''æ''æ''æ''æ''æ''æ''æ''æ''æ''æ''æ''æ''æ''æ''æ''æ''æ''æ''æ''æ''æ''æ''æ''æ''æ''æ''æ''æ''æ''æ''æ''æ''æ''æ''æ''æ''æ''æ''æ''æ''æ''æ''æ''æ''æ''æ''æ''æ''æ''æ''æ''æ''æ''æ''æ''æ''æ''æ''æ''æ''æ''æ''æ''æ''æ''æ' \n",
      "\n",
      "\n",
      " ######################################################################################################################################################## \n",
      "\n",
      "\n",
      "Only the name of superhero is:\n",
      " {'the flash', 'Captain of pakistan', 'superman', 'Hellboy', 'Green Lantern', 'ironman', 'spiderman'}\n",
      "the new superhero name in a set :\n",
      " {'the flash', 'Captain of pakistan', 'superman', 'Allama iqbal', 'Hellboy', 'Green Lantern', 'ironman', 'spiderman'}\n",
      "check hero name is in a set:\n",
      " True\n"
     ]
    },
    {
     "name": "stdin",
     "output_type": "stream",
     "text": [
      "\n",
      "Enter a superhero name to check: superman\n"
     ]
    },
    {
     "name": "stdout",
     "output_type": "stream",
     "text": [
      "is superman in the set? True\n",
      "\n",
      "Contents of final superhero set is:\n",
      " {'the flash', 'Captain of pakistan', 'superman', 'Allama iqbal', 'Hellboy', 'Green Lantern', 'ironman', 'spiderman'}\n",
      "\n",
      " !¤!!¤!!¤!!¤!!¤!!¤!!¤!!¤!!¤!!¤!!¤!!¤!!¤!!¤!!¤!!¤!!¤!!¤!!¤!!¤!!¤!!¤!!¤!!¤!!¤!!¤!!¤!!¤!!¤!!¤!!¤!!¤!!¤!!¤!!¤!!¤!!¤!!¤!!¤!!¤!!¤!!¤!!¤!!¤!!¤!!¤!!¤!!¤!!¤!!¤!!¤!!¤!!¤!!¤!!¤!!¤!!¤!!¤!!¤!!¤!!¤!!¤!!¤!!¤!!¤!!¤!!¤!!¤!!¤!!¤!!¤!!¤!!¤!!¤!!¤!!¤!!¤!!¤!!¤!!¤!!¤!!¤!!¤!!¤!!¤!!¤!!¤!!¤!!¤!!¤!!¤!!¤!!¤!!¤!!¤!!¤!!¤!!¤!!¤!!¤!!¤!!¤!!¤!!¤!!¤!!¤!!¤!!¤!!¤!!¤!!¤!!¤!!¤!!¤!!¤!!¤!!¤!!¤!!¤!!¤!!¤!!¤!!¤!!¤!!¤!!¤!!¤!!¤!!¤!!¤!!¤!!¤!!¤!!¤!!¤!!¤!!¤!!¤!!¤!!¤!!¤!!¤!!¤!!¤!!¤!!¤!!¤!!¤!!¤!!¤!!¤!!¤! \n",
      "\n",
      "\n",
      " ΅ζ΅΅ζ΅΅ζ΅΅ζ΅΅ζ΅΅ζ΅΅ζ΅΅ζ΅΅ζ΅΅ζ΅΅ζ΅΅ζ΅΅ζ΅΅ζ΅΅ζ΅΅ζ΅΅ζ΅΅ζ΅΅ζ΅΅ζ΅΅ζ΅΅ζ΅΅ζ΅΅ζ΅΅ζ΅΅ζ΅΅ζ΅΅ζ΅΅ζ΅΅ζ΅΅ζ΅΅ζ΅΅ζ΅΅ζ΅΅ζ΅΅ζ΅΅ζ΅΅ζ΅΅ζ΅΅ζ΅΅ζ΅΅ζ΅΅ζ΅΅ζ΅΅ζ΅΅ζ΅΅ζ΅΅ζ΅΅ζ΅΅ζ΅΅ζ΅΅ζ΅΅ζ΅΅ζ΅΅ζ΅΅ζ΅΅ζ΅΅ζ΅΅ζ΅΅ζ΅΅ζ΅΅ζ΅΅ζ΅΅ζ΅΅ζ΅΅ζ΅΅ζ΅΅ζ΅΅ζ΅΅ζ΅΅ζ΅΅ζ΅΅ζ΅΅ζ΅΅ζ΅΅ζ΅΅ζ΅΅ζ΅΅ζ΅΅ζ΅΅ζ΅΅ζ΅΅ζ΅΅ζ΅΅ζ΅΅ζ΅΅ζ΅΅ζ΅΅ζ΅΅ζ΅΅ζ΅΅ζ΅΅ζ΅΅ζ΅΅ζ΅΅ζ΅΅ζ΅΅ζ΅΅ζ΅΅ζ΅΅ζ΅΅ζ΅΅ζ΅΅ζ΅΅ζ΅΅ζ΅΅ζ΅΅ζ΅΅ζ΅΅ζ΅΅ζ΅΅ζ΅΅ζ΅΅ζ΅΅ζ΅΅ζ΅΅ζ΅΅ζ΅΅ζ΅΅ζ΅΅ζ΅΅ζ΅΅ζ΅΅ζ΅΅ζ΅΅ζ΅΅ζ΅΅ζ΅΅ζ΅΅ζ΅΅ζ΅΅ζ΅΅ζ΅΅ζ΅΅ζ΅΅ζ΅΅ζ΅΅ζ΅΅ζ΅΅ζ΅΅ζ΅΅ζ΅΅ζ΅΅ζ΅΅ζ΅΅ζ΅΅ζ΅΅ζ΅΅ζ΅΅ζ΅΅ζ΅΅ζ΅ \n",
      "\n",
      "\n",
      " !¤!!¤!!¤!!¤!!¤!!¤!!¤!!¤!!¤!!¤!!¤!!¤!!¤!!¤!!¤!!¤!!¤!!¤!!¤!!¤!!¤!!¤!!¤!!¤!!¤!!¤!!¤!!¤!!¤!!¤!!¤!!¤!!¤!!¤!!¤!!¤!!¤!!¤!!¤!!¤!!¤!!¤!!¤!!¤!!¤!!¤!!¤!!¤!!¤!!¤!!¤!!¤!!¤!!¤!!¤!!¤!!¤!!¤!!¤!!¤!!¤!!¤!!¤!!¤!!¤!!¤!!¤!!¤!!¤!!¤!!¤!!¤!!¤!!¤!!¤!!¤!!¤!!¤!!¤!!¤!!¤!!¤!!¤!!¤!!¤!!¤!!¤!!¤!!¤!!¤!!¤!!¤!!¤!!¤!!¤!!¤!!¤!!¤!!¤!!¤!!¤!!¤!!¤!!¤!!¤!!¤!!¤!!¤!!¤!!¤!!¤!!¤!!¤!!¤!!¤!!¤!!¤!!¤!!¤!!¤!!¤!!¤!!¤!!¤!!¤!!¤!!¤!!¤!!¤!!¤!!¤!!¤!!¤!!¤!!¤!!¤!!¤!!¤!!¤!!¤!!¤!!¤!!¤!!¤!!¤!!¤!!¤!!¤!!¤!!¤!!¤!!¤! \n",
      "\n"
     ]
    }
   ],
   "source": [
    "# - Task.1. Create a Set: Create a set of superhero names from the original list. A set is a collection of \n",
    "#-unique values (so duplicate superhero names will automatically be removed). \n",
    "print(\"\\n\",\"#\" * 152,\"\\n\")\n",
    "print(\"\\n\",\"'æ'\" * 152,\"\\n\")\n",
    "print(\"\\n\",\"#\" * 152,\"\\n\")\n",
    "\n",
    "superherose = [\n",
    "    (\"superman\",90,\"DC\",4.7),\n",
    "    (\"spiderman\",88,\"Marvel\",4.4),\n",
    "    (\"ironman\",92,\"DC\",4.8),\n",
    "    (\"Hellboy\",77,\"Dark horse\",4.2),\n",
    "    (\"the flash\",80,\"Marvel\",4.0),\n",
    "    (\"Green Lantern\",92,\"DC\",4.9),\n",
    "    (\"Captain of pakistan\",96,\"Marvel\",5.0)\n",
    "]\n",
    "\n",
    "\n",
    "set_superhero_name = set(map(lambda x: x[0],superherose))\n",
    "print(\"\\nOnly the name of superhero is:\\n\",set_superhero_name)\n",
    "\n",
    "# -Task.2. Add a New Hero to the Set: After adding the new superhero in the previous task, add their name to the set of superhero names. \n",
    "# -Remember, adding a name to a set will not create duplicates.\n",
    "\n",
    "set_superhero_name.add('Allama iqbal')\n",
    "print(\"the new superhero name in a set :\\n\",set_superhero_name)\n",
    "\n",
    "# -Task.3. Check for Superhero Membership: Check if a specific superhero (e.g., \"Flash\") is part of the superhero set. \n",
    "#-Display the result (whether the superhero is in the set or not). \n",
    "\n",
    "print(\"check hero name is in a set:\\n\",'ironman' in set_superhero_name)\n",
    "\n",
    "check_hero = input(\"\\nEnter a superhero name to check:\")\n",
    "print(f\"is {check_hero} in the set? {check_hero in set_superhero_name}\")\n",
    "\n",
    "# -Task.4. Display the Set of Superheroes: Display the contents of the superhero set after the modifications.\n",
    "#-It will automatically show only unique superhero names.\n",
    "\n",
    "print(\"\\nContents of final superhero set is:\\n\",set_superhero_name)\n",
    "\n",
    "print(\"\\n\",\"!¤!\" * 152,\"\\n\")\n",
    "print(\"\\n\",\"΅ζ΅\"*152,\"\\n\")\n",
    "print(\"\\n\",\"!¤!\" * 152,\"\\n\")"
   ]
  },
  {
   "cell_type": "code",
   "execution_count": null,
   "id": "397eaee9-8f97-41d5-b308-4d1f8272124a",
   "metadata": {},
   "outputs": [],
   "source": []
  },
  {
   "cell_type": "code",
   "execution_count": null,
   "id": "43f9f9b7-b3a4-422c-b357-7f9e725b27ef",
   "metadata": {},
   "outputs": [],
   "source": []
  },
  {
   "cell_type": "code",
   "execution_count": null,
   "id": "368a0e30-e936-407d-82ff-8b5be9266cb4",
   "metadata": {},
   "outputs": [],
   "source": []
  },
  {
   "cell_type": "code",
   "execution_count": null,
   "id": "9481b62c-f581-47da-8531-4da87fb17e1f",
   "metadata": {},
   "outputs": [],
   "source": []
  }
 ],
 "metadata": {
  "kernelspec": {
   "display_name": "Python 3 (ipykernel)",
   "language": "python",
   "name": "python3"
  },
  "language_info": {
   "codemirror_mode": {
    "name": "ipython",
    "version": 3
   },
   "file_extension": ".py",
   "mimetype": "text/x-python",
   "name": "python",
   "nbconvert_exporter": "python",
   "pygments_lexer": "ipython3",
   "version": "3.13.3"
  }
 },
 "nbformat": 4,
 "nbformat_minor": 5
}
